{
  "cells": [
    {
      "cell_type": "markdown",
      "metadata": {
        "id": "view-in-github",
        "colab_type": "text"
      },
      "source": [
        "<a href=\"https://colab.research.google.com/github/yzm9393/swineBRET-ICD/blob/main/04_Pseudo_Labeling_ipynb.ipynb\" target=\"_parent\"><img src=\"https://colab.research.google.com/assets/colab-badge.svg\" alt=\"Open In Colab\"/></a>"
      ]
    },
    {
      "cell_type": "markdown",
      "source": [
        "## Pseudo labeling\n",
        "1. Load Data: The script begins by loading large, pre-processed training dataset of ~38,400 records.\n",
        "\n",
        "2. Isolate Unlabeled Records: It then filters out the 2,000 records that were already annotated by expert, ensuring it only works with the data that needs to be labeled.\n",
        "\n",
        "3. Apply Teacher Models: The script loops through each of 11 saved \"teacher\" models. In each loop, it loads a specialist model (e.g., the \"respiratory\" model) and its corresponding text vectorizer. It then uses this model to predict the probability for that single label across all ~36,400 records, storing these scores in a new column.\n",
        "\n",
        "4. Save the Final Dataset: After the loop is complete, the script saves a new CSV file. This file contains the original text and 11 new \"pseudo-label\" columns, each filled with the probability scores from the teacher models. This becomes the final, enriched dataset for training SwineBERT model."
      ],
      "metadata": {
        "id": "2ee6Q_kP6rGY"
      },
      "id": "2ee6Q_kP6rGY"
    },
    {
      "cell_type": "code",
      "execution_count": null,
      "id": "38297b7a-ec9a-4fce-8d2b-def82fb0aa33",
      "metadata": {
        "id": "38297b7a-ec9a-4fce-8d2b-def82fb0aa33",
        "outputId": "a5cdf902-abcc-47c3-fd64-93506dd7ed8e"
      },
      "outputs": [
        {
          "name": "stdout",
          "output_type": "stream",
          "text": [
            "Found 35058 records to pseudo-label.\n",
            "\n",
            "--- Applying Teacher Models to Generate Pseudo-Labels ---\n"
          ]
        },
        {
          "name": "stderr",
          "output_type": "stream",
          "text": [
            "Pseudo-labeling progress: 100%|█████████████████| 11/11 [00:03<00:00,  2.92it/s]\n"
          ]
        },
        {
          "name": "stdout",
          "output_type": "stream",
          "text": [
            "\n",
            "--- Saving the Final Pseudo-Labeled Dataset ---\n",
            "Successfully created '/Users/zimoyang/Documents/swine_project/data/pseudo_label.csv'.\n"
          ]
        }
      ],
      "source": [
        "import pandas as pd\n",
        "import numpy as np\n",
        "import joblib\n",
        "import os\n",
        "import re\n",
        "from tqdm import tqdm\n",
        "\n",
        "# --- 1. Configuration ---\n",
        "# The file with ALL ~38,400 pre-processed/anonymized training records\n",
        "PROCESSED_TRAINING_FILE = '/Users/zimoyang/Documents/swine_project/data/training_set_processed.csv'\n",
        "\n",
        "# The directory where you saved your teacher models\n",
        "MODEL_INPUT_DIR = '/Users/zimoyang/Documents/swine_project/teacher_models_calibrated'\n",
        "# The final output file this script will create\n",
        "OUTPUT_PSEUDO_LABELED_FILE = '/Users/zimoyang/Documents/swine_project/data/pseudo_label.csv'\n",
        "\n",
        "ID_COLUMN = 'U_SUBMISSIONID'\n",
        "PROCESSED_TEXT_COLUMN = 'anonymized_text_for_ml'\n",
        "\n",
        "# The final list of modeling labels you trained teacher models for\n",
        "FINAL_MODELING_LABELS = [\n",
        "    '[01] Certain infectious or parasitic diseases',\n",
        "    '[08] Diseases of the nervous system',\n",
        "    '[12] Diseases of the respiratory system',\n",
        "    '[13] Diseases of the digestive system',\n",
        "    '[14] Diseases of the skin',\n",
        "    '[15] Diseases of the musculoskeletal system or connective tissue',\n",
        "    '[18] Pregnancy, childbirth or the puerperium',\n",
        "    '[19] Certain conditions originating in the perinatal period',\n",
        "    'Monitoring',\n",
        "    'Unknown',\n",
        "    'Symptoms not classified elsewhere'\n",
        "]\n",
        "\n",
        "# --- 2. Load Data ---\n",
        "\n",
        "df_master = pd.read_csv(PROCESSED_TRAINING_FILE)\n",
        "\n",
        "# --- 3. Isolate Records for Pseudo-Labeling ---\n",
        "# We will only predict on records that were NOT part of the gold-standard set\n",
        "df_to_label = df_master[df_master['expert_labels_vector'].isna()].copy()\n",
        "print(f\"Found {len(df_to_label)} records to pseudo-label.\")\n",
        "\n",
        "\n",
        "# --- 4. Loop Through Teacher Models and Predict Probabilities ---\n",
        "print(\"\\n--- Applying Teacher Models to Generate Pseudo-Labels ---\")\n",
        "\n",
        "text_to_predict = df_to_label[PROCESSED_TEXT_COLUMN].astype(str)\n",
        "\n",
        "for label_name in tqdm(FINAL_MODELING_LABELS, desc=\"Pseudo-labeling progress\"):\n",
        "    # Sanitize label name to match saved filenames\n",
        "    safe_label_name = re.sub(r'[\\W_]+', '', label_name)\n",
        "    model_path = os.path.join(MODEL_INPUT_DIR, f'model_{safe_label_name}.joblib')\n",
        "    vectorizer_path = os.path.join(MODEL_INPUT_DIR, f'vectorizer_{safe_label_name}.joblib')\n",
        "\n",
        "    pseudo_label_col = f'pseudo_label_{safe_label_name}'\n",
        "\n",
        "    if os.path.exists(model_path) and os.path.exists(vectorizer_path):\n",
        "        # Load the saved model and its corresponding vectorizer\n",
        "        model = joblib.load(model_path)\n",
        "        vectorizer = joblib.load(vectorizer_path)\n",
        "\n",
        "        # Transform the EXISTING anonymized text using the loaded vectorizer\n",
        "        X_tfidf = vectorizer.transform(text_to_predict)\n",
        "\n",
        "        # Predict probabilities for the positive class (class 1)\n",
        "        predicted_probabilities = model.predict_proba(X_tfidf)[:, 1]\n",
        "\n",
        "        # Store the probabilities in a new column\n",
        "        df_to_label[pseudo_label_col] = predicted_probabilities\n",
        "    else:\n",
        "        print(f\"Warning: Model for '{label_name}' not found. Filling with 0.0 probability.\")\n",
        "        df_to_label[pseudo_label_col] = 0.0\n",
        "\n",
        "# --- 5. Save the Pseudo-Labeled Dataset ---\n",
        "print(\"\\n--- Saving the Final Pseudo-Labeled Dataset ---\")\n",
        "\n",
        "# We only need the ID, text, and the new pseudo-labels for the next step\n",
        "columns_to_save = [ID_COLUMN, PROCESSED_TEXT_COLUMN] + [col for col in df_to_label.columns if 'pseudo_label_' in col]\n",
        "df_to_label[columns_to_save].to_csv(OUTPUT_PSEUDO_LABELED_FILE, index=False)\n",
        "\n",
        "print(f\"Successfully created '{OUTPUT_PSEUDO_LABELED_FILE}'.\")"
      ]
    }
  ],
  "metadata": {
    "kernelspec": {
      "display_name": "Python 3 (ipykernel)",
      "language": "python",
      "name": "python3"
    },
    "language_info": {
      "codemirror_mode": {
        "name": "ipython",
        "version": 3
      },
      "file_extension": ".py",
      "mimetype": "text/x-python",
      "name": "python",
      "nbconvert_exporter": "python",
      "pygments_lexer": "ipython3",
      "version": "3.12.2"
    },
    "colab": {
      "provenance": [],
      "include_colab_link": true
    }
  },
  "nbformat": 4,
  "nbformat_minor": 5
}